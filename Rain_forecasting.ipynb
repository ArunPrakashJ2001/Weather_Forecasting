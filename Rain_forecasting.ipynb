{
  "nbformat": 4,
  "nbformat_minor": 0,
  "metadata": {
    "colab": {
      "name": "Rain_forecasting.ipynb",
      "provenance": []
    },
    "kernelspec": {
      "name": "python3",
      "display_name": "Python 3"
    },
    "language_info": {
      "name": "python"
    }
  },
  "cells": [
    {
      "cell_type": "code",
      "metadata": {
        "colab": {
          "base_uri": "https://localhost:8080/"
        },
        "id": "5OzOw403veDd",
        "outputId": "0a909dcd-d9a6-4f09-c87b-bc3118b9c06f"
      },
      "source": [
        "from google.colab import drive \n",
        "drive.mount('/content/drive')"
      ],
      "execution_count": 1,
      "outputs": [
        {
          "output_type": "stream",
          "text": [
            "Mounted at /content/drive\n"
          ],
          "name": "stdout"
        }
      ]
    },
    {
      "cell_type": "code",
      "metadata": {
        "id": "Hfgs89gAvmN5"
      },
      "source": [
        "import pandas as pd\n",
        "import numpy as np\n",
        "import scipy as sc\n",
        "import tensorflow as tf\n",
        "from tensorflow import keras\n",
        "import matplotlib.pyplot as plt\n",
        "from sklearn import preprocessing\n",
        "from keras.models import Sequential\n",
        "from tensorflow.keras import layers"
      ],
      "execution_count": 2,
      "outputs": []
    },
    {
      "cell_type": "code",
      "metadata": {
        "colab": {
          "base_uri": "https://localhost:8080/",
          "height": 203
        },
        "id": "sqp2_tHZvoO6",
        "outputId": "6c955bcb-60fa-4935-a5b7-e6527abf566d"
      },
      "source": [
        "data=pd.read_csv(\"/content/drive/MyDrive/Timeseries_datasets/rainfall.csv\")\n",
        "data.head()"
      ],
      "execution_count": 3,
      "outputs": [
        {
          "output_type": "execute_result",
          "data": {
            "text/html": [
              "<div>\n",
              "<style scoped>\n",
              "    .dataframe tbody tr th:only-of-type {\n",
              "        vertical-align: middle;\n",
              "    }\n",
              "\n",
              "    .dataframe tbody tr th {\n",
              "        vertical-align: top;\n",
              "    }\n",
              "\n",
              "    .dataframe thead th {\n",
              "        text-align: right;\n",
              "    }\n",
              "</style>\n",
              "<table border=\"1\" class=\"dataframe\">\n",
              "  <thead>\n",
              "    <tr style=\"text-align: right;\">\n",
              "      <th></th>\n",
              "      <th>date</th>\n",
              "      <th>rainfall</th>\n",
              "    </tr>\n",
              "  </thead>\n",
              "  <tbody>\n",
              "    <tr>\n",
              "      <th>0</th>\n",
              "      <td>01-01-2010</td>\n",
              "      <td>2.9</td>\n",
              "    </tr>\n",
              "    <tr>\n",
              "      <th>1</th>\n",
              "      <td>02-01-2010</td>\n",
              "      <td>10.2</td>\n",
              "    </tr>\n",
              "    <tr>\n",
              "      <th>2</th>\n",
              "      <td>03-01-2010</td>\n",
              "      <td>0.9</td>\n",
              "    </tr>\n",
              "    <tr>\n",
              "      <th>3</th>\n",
              "      <td>04-01-2010</td>\n",
              "      <td>48.6</td>\n",
              "    </tr>\n",
              "    <tr>\n",
              "      <th>4</th>\n",
              "      <td>05-01-2010</td>\n",
              "      <td>9.6</td>\n",
              "    </tr>\n",
              "  </tbody>\n",
              "</table>\n",
              "</div>"
            ],
            "text/plain": [
              "         date  rainfall\n",
              "0  01-01-2010       2.9\n",
              "1  02-01-2010      10.2\n",
              "2  03-01-2010       0.9\n",
              "3  04-01-2010      48.6\n",
              "4  05-01-2010       9.6"
            ]
          },
          "metadata": {},
          "execution_count": 3
        }
      ]
    },
    {
      "cell_type": "code",
      "metadata": {
        "colab": {
          "base_uri": "https://localhost:8080/"
        },
        "id": "x6waarxjvsFy",
        "outputId": "ecafa39e-74c2-423f-8c9e-743e7a548008"
      },
      "source": [
        "data.shape"
      ],
      "execution_count": 4,
      "outputs": [
        {
          "output_type": "execute_result",
          "data": {
            "text/plain": [
              "(3774, 2)"
            ]
          },
          "metadata": {},
          "execution_count": 4
        }
      ]
    },
    {
      "cell_type": "code",
      "metadata": {
        "id": "jfihYLhdvsKl"
      },
      "source": [
        "train_split=0.9\n",
        "train_index=int(data.shape[0]*train_split)\n",
        "data_past=30\n",
        "data_future=5"
      ],
      "execution_count": 5,
      "outputs": []
    },
    {
      "cell_type": "code",
      "metadata": {
        "id": "6WV8OezEvxaJ"
      },
      "source": [
        "training_data=data.iloc[:train_index].values\n",
        "validation_data=data.iloc[train_index:].values"
      ],
      "execution_count": 6,
      "outputs": []
    },
    {
      "cell_type": "code",
      "metadata": {
        "colab": {
          "base_uri": "https://localhost:8080/"
        },
        "id": "xHOtBe6Nvy33",
        "outputId": "00fb7fa8-078b-429f-f759-f390b4d42cd4"
      },
      "source": [
        "print(\"Training data dimensions:\",np.shape(training_data))\n",
        "print(\"Validation data dimensions:\",np.shape(validation_data))"
      ],
      "execution_count": 7,
      "outputs": [
        {
          "output_type": "stream",
          "text": [
            "Training data dimensions: (3396, 2)\n",
            "Validation data dimensions: (378, 2)\n"
          ],
          "name": "stdout"
        }
      ]
    },
    {
      "cell_type": "code",
      "metadata": {
        "id": "3WkBQW7rv0ST"
      },
      "source": [
        "x_train=[]\n",
        "y_train=[]\n",
        "for i in range(len(training_data) - data_past - data_future + 1):\n",
        "  x_train.append(training_data[i:i+data_past,1])\n",
        "  y_train.append(training_data[i+data_past:i+data_past+data_future,1])"
      ],
      "execution_count": 8,
      "outputs": []
    },
    {
      "cell_type": "code",
      "metadata": {
        "id": "uLz9Rj47v2Lx"
      },
      "source": [
        "x_train , y_train = np.array(x_train), np.array(y_train)\n",
        "x_train = np.asarray(x_train).astype('float32')\n",
        "y_train = np.asarray(y_train).astype('float32')"
      ],
      "execution_count": 9,
      "outputs": []
    },
    {
      "cell_type": "code",
      "metadata": {
        "id": "tU3MNtn1v3ih"
      },
      "source": [
        "from keras.layers import Bidirectional\n",
        "from keras.layers import LSTM\n",
        "from keras.layers import Dropout\n",
        "from keras.layers import Dense"
      ],
      "execution_count": 10,
      "outputs": []
    },
    {
      "cell_type": "code",
      "metadata": {
        "colab": {
          "base_uri": "https://localhost:8080/"
        },
        "id": "1u1e95n8v4_D",
        "outputId": "65c0fa01-ae21-4be5-ab0f-a7cee0fe10af"
      },
      "source": [
        "print(\"This data can be framed as 1 sample with \",x_train.shape[0],\" time steps and \",x_train.shape[1],\" features\")"
      ],
      "execution_count": 11,
      "outputs": [
        {
          "output_type": "stream",
          "text": [
            "This data can be framed as 1 sample with  3362  time steps and  30  features\n"
          ],
          "name": "stdout"
        }
      ]
    },
    {
      "cell_type": "code",
      "metadata": {
        "id": "azWuRVdPv6Ul"
      },
      "source": [
        "x_train=x_train.reshape(1,x_train.shape[0],x_train.shape[1])\n",
        "y_train=y_train.reshape(1,y_train.shape[0],y_train.shape[1])"
      ],
      "execution_count": 12,
      "outputs": []
    },
    {
      "cell_type": "code",
      "metadata": {
        "colab": {
          "base_uri": "https://localhost:8080/"
        },
        "id": "YPeOrOR8v-8j",
        "outputId": "d303a038-015f-41e4-f595-b34d6a55b38d"
      },
      "source": [
        "EPOCHS = 20\n",
        "BATCH_SIZE = 32\n",
        "model = Sequential()\n",
        "model.add(LSTM(units= 30, return_sequences=True,input_shape=(3362,30)))\n",
        "model.add(Dense(units = data_future, activation='relu'))\n",
        "\n",
        "model.compile(optimizer='adam', loss='mean_squared_error', metrics=['acc'])\n",
        "\n",
        "model.build(x_train.shape)\n",
        "model.summary()"
      ],
      "execution_count": 13,
      "outputs": [
        {
          "output_type": "stream",
          "text": [
            "Model: \"sequential\"\n",
            "_________________________________________________________________\n",
            "Layer (type)                 Output Shape              Param #   \n",
            "=================================================================\n",
            "lstm (LSTM)                  (None, 3362, 30)          7320      \n",
            "_________________________________________________________________\n",
            "dense (Dense)                (None, 3362, 5)           155       \n",
            "=================================================================\n",
            "Total params: 7,475\n",
            "Trainable params: 7,475\n",
            "Non-trainable params: 0\n",
            "_________________________________________________________________\n"
          ],
          "name": "stdout"
        }
      ]
    },
    {
      "cell_type": "code",
      "metadata": {
        "id": "d7uuftK2yRDS"
      },
      "source": [
        "model.fit(x_train, y_train, epochs=EPOCHS,batch_size=BATCH_SIZE)"
      ],
      "execution_count": null,
      "outputs": []
    },
    {
      "cell_type": "code",
      "metadata": {
        "id": "InNNjKxWwHPT"
      },
      "source": [
        "# using Bi-LSTM\n",
        "EPOCHS = 20\n",
        "BATCH_SIZE = 32\n",
        "\n",
        "model = Sequential()\n",
        "model.add(Bidirectional(LSTM(units=30, return_sequences=True, input_shape = (3362  , 30))))\n",
        "model.add(Dropout(0.2))\n",
        "model.add(LSTM(units= 30, return_sequences=True,input_shape=(30,1)))\n",
        "model.add(Dropout(0.2))\n",
        "model.add(LSTM(units= 30, return_sequences=True))\n",
        "model.add(Dropout(0.2))\n",
        "model.add(LSTM(units= 30))\n",
        "model.add(Dropout(0.2))\n",
        "model.add(Dense(units = data_future, activation='relu'))\n",
        "\n",
        "model.compile(optimizer='adam', loss='mean_squared_error', metrics=['acc'])"
      ],
      "execution_count": null,
      "outputs": []
    },
    {
      "cell_type": "code",
      "metadata": {
        "id": "Bta6k6dhwKaq"
      },
      "source": [
        "model.build(x_train.shape)\n",
        "model.summary()\n",
        "model.fit(x_train, y_train, epochs=EPOCHS, batch_size=BATCH_SIZE)"
      ],
      "execution_count": null,
      "outputs": []
    },
    {
      "cell_type": "code",
      "metadata": {
        "id": "3JRW1u8bwA67"
      },
      "source": [
        "print(x_train.shape)\n",
        "print(x_train[0].shape)\n",
        "pred=np.reshape(x_train[0],(1,x_train.shape[1],x_train.shape[2]))\n",
        "print(pred.shape)"
      ],
      "execution_count": null,
      "outputs": []
    },
    {
      "cell_type": "code",
      "metadata": {
        "id": "9EQTc65GwQeL"
      },
      "source": [
        "model.predict(pred)"
      ],
      "execution_count": null,
      "outputs": []
    }
  ]
}